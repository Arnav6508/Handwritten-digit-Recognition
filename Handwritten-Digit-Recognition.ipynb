{
 "cells": [
  {
   "cell_type": "code",
   "execution_count": 1,
   "id": "64f45254",
   "metadata": {
    "_cell_guid": "b1076dfc-b9ad-4769-8c92-a6c4dae69d19",
    "_uuid": "8f2839f25d086af736a60e9eeb907d3b93b6e0e5",
    "execution": {
     "iopub.execute_input": "2024-08-09T14:46:01.792253Z",
     "iopub.status.busy": "2024-08-09T14:46:01.791839Z",
     "iopub.status.idle": "2024-08-09T14:46:16.437553Z",
     "shell.execute_reply": "2024-08-09T14:46:16.436277Z"
    },
    "papermill": {
     "duration": 14.654008,
     "end_time": "2024-08-09T14:46:16.440241",
     "exception": false,
     "start_time": "2024-08-09T14:46:01.786233",
     "status": "completed"
    },
    "tags": []
   },
   "outputs": [
    {
     "name": "stderr",
     "output_type": "stream",
     "text": [
      "2024-08-09 14:46:04.002608: E external/local_xla/xla/stream_executor/cuda/cuda_dnn.cc:9261] Unable to register cuDNN factory: Attempting to register factory for plugin cuDNN when one has already been registered\n",
      "2024-08-09 14:46:04.002751: E external/local_xla/xla/stream_executor/cuda/cuda_fft.cc:607] Unable to register cuFFT factory: Attempting to register factory for plugin cuFFT when one has already been registered\n",
      "2024-08-09 14:46:04.169712: E external/local_xla/xla/stream_executor/cuda/cuda_blas.cc:1515] Unable to register cuBLAS factory: Attempting to register factory for plugin cuBLAS when one has already been registered\n"
     ]
    }
   ],
   "source": [
    "\n",
    "import tensorflow as tf\n",
    "from tensorflow import keras\n",
    "import matplotlib.pyplot as plt\n",
    "%matplotlib inline\n",
    "import numpy as np\n"
   ]
  },
  {
   "cell_type": "code",
   "execution_count": 2,
   "id": "52224827",
   "metadata": {
    "execution": {
     "iopub.execute_input": "2024-08-09T14:46:16.450504Z",
     "iopub.status.busy": "2024-08-09T14:46:16.449832Z",
     "iopub.status.idle": "2024-08-09T14:46:16.906509Z",
     "shell.execute_reply": "2024-08-09T14:46:16.904996Z"
    },
    "papermill": {
     "duration": 0.466586,
     "end_time": "2024-08-09T14:46:16.910943",
     "exception": false,
     "start_time": "2024-08-09T14:46:16.444357",
     "status": "completed"
    },
    "tags": []
   },
   "outputs": [
    {
     "name": "stdout",
     "output_type": "stream",
     "text": [
      "X_train shape: (60000, 28, 28)\n",
      "y_train shape: (60000,)\n",
      "X_test shape: (10000, 28, 28)\n",
      "y_test shape: (10000,)\n"
     ]
    }
   ],
   "source": [
    "mnist_path = '/kaggle/input/mnist-handwritten-digit-classification/mnist.npz'\n",
    "with np.load(mnist_path, allow_pickle=True) as f:\n",
    "    X_train, y_train = f['x_train'], f['y_train']\n",
    "    X_test, y_test = f['x_test'], f['y_test']\n",
    "\n",
    "# Display the shape of the datasets\n",
    "print(f\"X_train shape: {X_train.shape}\")\n",
    "print(f\"y_train shape: {y_train.shape}\")\n",
    "print(f\"X_test shape: {X_test.shape}\")\n",
    "print(f\"y_test shape: {y_test.shape}\")"
   ]
  },
  {
   "cell_type": "code",
   "execution_count": 3,
   "id": "08cf53d7",
   "metadata": {
    "execution": {
     "iopub.execute_input": "2024-08-09T14:46:16.923079Z",
     "iopub.status.busy": "2024-08-09T14:46:16.921971Z",
     "iopub.status.idle": "2024-08-09T14:46:16.937531Z",
     "shell.execute_reply": "2024-08-09T14:46:16.935196Z"
    },
    "papermill": {
     "duration": 0.024498,
     "end_time": "2024-08-09T14:46:16.940867",
     "exception": false,
     "start_time": "2024-08-09T14:46:16.916369",
     "status": "completed"
    },
    "tags": []
   },
   "outputs": [
    {
     "data": {
      "text/plain": [
       "array([[  0,   0,   0,   0,   0,   0,   0,   0,   0,   0,   0,   0,   0,\n",
       "          0,   0,   0,   0,   0,   0,   0,   0,   0,   0,   0,   0,   0,\n",
       "          0,   0],\n",
       "       [  0,   0,   0,   0,   0,   0,   0,   0,   0,   0,   0,   0,   0,\n",
       "          0,   0,   0,   0,   0,   0,   0,   0,   0,   0,   0,   0,   0,\n",
       "          0,   0],\n",
       "       [  0,   0,   0,   0,   0,   0,   0,   0,   0,   0,   0,   0,   0,\n",
       "          0,   0,   0,   0,   0,   0,   0,   0,   0,   0,   0,   0,   0,\n",
       "          0,   0],\n",
       "       [  0,   0,   0,   0,   0,   0,   0,   0,   0,   0,   0,   0,   0,\n",
       "          0,   0,   0,   0,   0,   0,   0,   0,   0,   0,   0,   0,   0,\n",
       "          0,   0],\n",
       "       [  0,   0,   0,   0,   0,   0,   0,   0,   0,   0,   0,   0,   0,\n",
       "          0,   0,   0,   0,   0,   0,   0,   0,   0,   0,   0,   0,   0,\n",
       "          0,   0],\n",
       "       [  0,   0,   0,   0,   0,   0,   0,   0,   0,   0,   0,   0,   3,\n",
       "         18,  18,  18, 126, 136, 175,  26, 166, 255, 247, 127,   0,   0,\n",
       "          0,   0],\n",
       "       [  0,   0,   0,   0,   0,   0,   0,   0,  30,  36,  94, 154, 170,\n",
       "        253, 253, 253, 253, 253, 225, 172, 253, 242, 195,  64,   0,   0,\n",
       "          0,   0],\n",
       "       [  0,   0,   0,   0,   0,   0,   0,  49, 238, 253, 253, 253, 253,\n",
       "        253, 253, 253, 253, 251,  93,  82,  82,  56,  39,   0,   0,   0,\n",
       "          0,   0],\n",
       "       [  0,   0,   0,   0,   0,   0,   0,  18, 219, 253, 253, 253, 253,\n",
       "        253, 198, 182, 247, 241,   0,   0,   0,   0,   0,   0,   0,   0,\n",
       "          0,   0],\n",
       "       [  0,   0,   0,   0,   0,   0,   0,   0,  80, 156, 107, 253, 253,\n",
       "        205,  11,   0,  43, 154,   0,   0,   0,   0,   0,   0,   0,   0,\n",
       "          0,   0],\n",
       "       [  0,   0,   0,   0,   0,   0,   0,   0,   0,  14,   1, 154, 253,\n",
       "         90,   0,   0,   0,   0,   0,   0,   0,   0,   0,   0,   0,   0,\n",
       "          0,   0],\n",
       "       [  0,   0,   0,   0,   0,   0,   0,   0,   0,   0,   0, 139, 253,\n",
       "        190,   2,   0,   0,   0,   0,   0,   0,   0,   0,   0,   0,   0,\n",
       "          0,   0],\n",
       "       [  0,   0,   0,   0,   0,   0,   0,   0,   0,   0,   0,  11, 190,\n",
       "        253,  70,   0,   0,   0,   0,   0,   0,   0,   0,   0,   0,   0,\n",
       "          0,   0],\n",
       "       [  0,   0,   0,   0,   0,   0,   0,   0,   0,   0,   0,   0,  35,\n",
       "        241, 225, 160, 108,   1,   0,   0,   0,   0,   0,   0,   0,   0,\n",
       "          0,   0],\n",
       "       [  0,   0,   0,   0,   0,   0,   0,   0,   0,   0,   0,   0,   0,\n",
       "         81, 240, 253, 253, 119,  25,   0,   0,   0,   0,   0,   0,   0,\n",
       "          0,   0],\n",
       "       [  0,   0,   0,   0,   0,   0,   0,   0,   0,   0,   0,   0,   0,\n",
       "          0,  45, 186, 253, 253, 150,  27,   0,   0,   0,   0,   0,   0,\n",
       "          0,   0],\n",
       "       [  0,   0,   0,   0,   0,   0,   0,   0,   0,   0,   0,   0,   0,\n",
       "          0,   0,  16,  93, 252, 253, 187,   0,   0,   0,   0,   0,   0,\n",
       "          0,   0],\n",
       "       [  0,   0,   0,   0,   0,   0,   0,   0,   0,   0,   0,   0,   0,\n",
       "          0,   0,   0,   0, 249, 253, 249,  64,   0,   0,   0,   0,   0,\n",
       "          0,   0],\n",
       "       [  0,   0,   0,   0,   0,   0,   0,   0,   0,   0,   0,   0,   0,\n",
       "          0,  46, 130, 183, 253, 253, 207,   2,   0,   0,   0,   0,   0,\n",
       "          0,   0],\n",
       "       [  0,   0,   0,   0,   0,   0,   0,   0,   0,   0,   0,   0,  39,\n",
       "        148, 229, 253, 253, 253, 250, 182,   0,   0,   0,   0,   0,   0,\n",
       "          0,   0],\n",
       "       [  0,   0,   0,   0,   0,   0,   0,   0,   0,   0,  24, 114, 221,\n",
       "        253, 253, 253, 253, 201,  78,   0,   0,   0,   0,   0,   0,   0,\n",
       "          0,   0],\n",
       "       [  0,   0,   0,   0,   0,   0,   0,   0,  23,  66, 213, 253, 253,\n",
       "        253, 253, 198,  81,   2,   0,   0,   0,   0,   0,   0,   0,   0,\n",
       "          0,   0],\n",
       "       [  0,   0,   0,   0,   0,   0,  18, 171, 219, 253, 253, 253, 253,\n",
       "        195,  80,   9,   0,   0,   0,   0,   0,   0,   0,   0,   0,   0,\n",
       "          0,   0],\n",
       "       [  0,   0,   0,   0,  55, 172, 226, 253, 253, 253, 253, 244, 133,\n",
       "         11,   0,   0,   0,   0,   0,   0,   0,   0,   0,   0,   0,   0,\n",
       "          0,   0],\n",
       "       [  0,   0,   0,   0, 136, 253, 253, 253, 212, 135, 132,  16,   0,\n",
       "          0,   0,   0,   0,   0,   0,   0,   0,   0,   0,   0,   0,   0,\n",
       "          0,   0],\n",
       "       [  0,   0,   0,   0,   0,   0,   0,   0,   0,   0,   0,   0,   0,\n",
       "          0,   0,   0,   0,   0,   0,   0,   0,   0,   0,   0,   0,   0,\n",
       "          0,   0],\n",
       "       [  0,   0,   0,   0,   0,   0,   0,   0,   0,   0,   0,   0,   0,\n",
       "          0,   0,   0,   0,   0,   0,   0,   0,   0,   0,   0,   0,   0,\n",
       "          0,   0],\n",
       "       [  0,   0,   0,   0,   0,   0,   0,   0,   0,   0,   0,   0,   0,\n",
       "          0,   0,   0,   0,   0,   0,   0,   0,   0,   0,   0,   0,   0,\n",
       "          0,   0]], dtype=uint8)"
      ]
     },
     "execution_count": 3,
     "metadata": {},
     "output_type": "execute_result"
    }
   ],
   "source": [
    "X_train[0]"
   ]
  },
  {
   "cell_type": "code",
   "execution_count": 4,
   "id": "7b68f654",
   "metadata": {
    "execution": {
     "iopub.execute_input": "2024-08-09T14:46:16.952777Z",
     "iopub.status.busy": "2024-08-09T14:46:16.952377Z",
     "iopub.status.idle": "2024-08-09T14:46:17.343222Z",
     "shell.execute_reply": "2024-08-09T14:46:17.341637Z"
    },
    "papermill": {
     "duration": 0.40087,
     "end_time": "2024-08-09T14:46:17.347720",
     "exception": false,
     "start_time": "2024-08-09T14:46:16.946850",
     "status": "completed"
    },
    "tags": []
   },
   "outputs": [
    {
     "data": {
      "text/plain": [
       "5"
      ]
     },
     "execution_count": 4,
     "metadata": {},
     "output_type": "execute_result"
    },
    {
     "data": {
      "image/png": "[encoded data removed]",
      "text/plain": [
       "<Figure size 480x480 with 1 Axes>"
      ]
     },
     "metadata": {},
     "output_type": "display_data"
    }
   ],
   "source": [
    "plt.matshow(X_train[0])\n",
    "y_train[0]"
   ]
  },
  {
   "cell_type": "code",
   "execution_count": 5,
   "id": "a13472fd",
   "metadata": {
    "execution": {
     "iopub.execute_input": "2024-08-09T14:46:17.364765Z",
     "iopub.status.busy": "2024-08-09T14:46:17.364178Z",
     "iopub.status.idle": "2024-08-09T14:46:17.559780Z",
     "shell.execute_reply": "2024-08-09T14:46:17.558723Z"
    },
    "papermill": {
     "duration": 0.207742,
     "end_time": "2024-08-09T14:46:17.562579",
     "exception": false,
     "start_time": "2024-08-09T14:46:17.354837",
     "status": "completed"
    },
    "tags": []
   },
   "outputs": [],
   "source": [
    "# Feature Scaling\n",
    "X_train = X_train/255\n",
    "X_test = X_test/255"
   ]
  },
  {
   "cell_type": "markdown",
   "id": "72fa1c87",
   "metadata": {
    "papermill": {
     "duration": 0.00467,
     "end_time": "2024-08-09T14:46:17.571717",
     "exception": false,
     "start_time": "2024-08-09T14:46:17.567047",
     "status": "completed"
    },
    "tags": []
   },
   "source": []
  },
  {
   "cell_type": "code",
   "execution_count": 6,
   "id": "d2a18a4b",
   "metadata": {
    "execution": {
     "iopub.execute_input": "2024-08-09T14:46:17.582543Z",
     "iopub.status.busy": "2024-08-09T14:46:17.582168Z",
     "iopub.status.idle": "2024-08-09T14:46:17.586812Z",
     "shell.execute_reply": "2024-08-09T14:46:17.585756Z"
    },
    "papermill": {
     "duration": 0.012953,
     "end_time": "2024-08-09T14:46:17.589225",
     "exception": false,
     "start_time": "2024-08-09T14:46:17.576272",
     "status": "completed"
    },
    "tags": []
   },
   "outputs": [],
   "source": [
    "# # Basic Neural network\n",
    "# model = keras.Sequential([\n",
    "#     keras.Input(shape=(28,28)),\n",
    "#     keras.layers.Flatten(),\n",
    "#     keras.layers.Dense(units=100, activation='relu'),\n",
    "#     keras.layers.Dense(units=50, activation='relu'),\n",
    "#     keras.layers.Dense(units=10, activation='sigmoid'),\n",
    "# ])\n",
    "# model.compile(optimizer = tf.keras.optimizers.Adam(),\n",
    "#             loss = tf.keras.losses.SparseCategoricalCrossentropy(),\n",
    "#              metrics=['accuracy'])\n",
    "# model.fit(X_train,y_train,epochs=10) "
   ]
  },
  {
   "cell_type": "code",
   "execution_count": 7,
   "id": "b139309b",
   "metadata": {
    "execution": {
     "iopub.execute_input": "2024-08-09T14:46:17.599650Z",
     "iopub.status.busy": "2024-08-09T14:46:17.599227Z",
     "iopub.status.idle": "2024-08-09T14:46:17.603888Z",
     "shell.execute_reply": "2024-08-09T14:46:17.602801Z"
    },
    "papermill": {
     "duration": 0.012444,
     "end_time": "2024-08-09T14:46:17.606159",
     "exception": false,
     "start_time": "2024-08-09T14:46:17.593715",
     "status": "completed"
    },
    "tags": []
   },
   "outputs": [],
   "source": [
    "# model.evaluate(X_test,y_test)\n",
    "# 97% accuracy"
   ]
  },
  {
   "cell_type": "code",
   "execution_count": 8,
   "id": "a7ebd72c",
   "metadata": {
    "execution": {
     "iopub.execute_input": "2024-08-09T14:46:17.616535Z",
     "iopub.status.busy": "2024-08-09T14:46:17.616161Z",
     "iopub.status.idle": "2024-08-09T14:46:17.776713Z",
     "shell.execute_reply": "2024-08-09T14:46:17.775654Z"
    },
    "papermill": {
     "duration": 0.168633,
     "end_time": "2024-08-09T14:46:17.779268",
     "exception": false,
     "start_time": "2024-08-09T14:46:17.610635",
     "status": "completed"
    },
    "tags": []
   },
   "outputs": [],
   "source": [
    "# Using convolution neural network\n",
    "model = keras.Sequential([\n",
    "    keras.Input(shape=(28,28,1)),\n",
    "    keras.layers.Conv2D(32,(3,3),strides=(1,1),padding='same',activation='relu'),\n",
    "    keras.layers.MaxPool2D(pool_size=(2, 2),strides=(2,2),data_format='channels_last'),\n",
    "    keras.layers.Dropout(0.2),\n",
    "    keras.layers.Conv2D(20,(3,3),strides=(1,1),padding='same',activation='relu'),\n",
    "    keras.layers.MaxPool2D(pool_size=(2, 2),strides=(2,2),data_format='channels_last'),\n",
    "    keras.layers.Dropout(0.2),\n",
    "    keras.layers.Flatten(),\n",
    "    keras.layers.Dense(units=128, activation='relu'),\n",
    "    keras.layers.Dense(units=10, activation='softmax'),\n",
    "])\n",
    "\n",
    "model.compile(optimizer=tf.keras.optimizers.Adam(learning_rate=0.001),\n",
    "              loss= tf.keras.losses.SparseCategoricalCrossentropy(),\n",
    "              metrics=['accuracy'])\n"
   ]
  },
  {
   "cell_type": "code",
   "execution_count": 9,
   "id": "c7979590",
   "metadata": {
    "execution": {
     "iopub.execute_input": "2024-08-09T14:46:17.789660Z",
     "iopub.status.busy": "2024-08-09T14:46:17.789230Z",
     "iopub.status.idle": "2024-08-09T14:50:08.337386Z",
     "shell.execute_reply": "2024-08-09T14:50:08.336094Z"
    },
    "papermill": {
     "duration": 230.556223,
     "end_time": "2024-08-09T14:50:08.339970",
     "exception": false,
     "start_time": "2024-08-09T14:46:17.783747",
     "status": "completed"
    },
    "tags": []
   },
   "outputs": [
    {
     "name": "stdout",
     "output_type": "stream",
     "text": [
      "Epoch 1/9\n",
      "\u001b[1m235/235\u001b[0m \u001b[32m━━━━━━━━━━━━━━━━━━━━\u001b[0m\u001b[37m\u001b[0m \u001b[1m26s\u001b[0m 101ms/step - accuracy: 0.7538 - loss: 0.8124 - val_accuracy: 0.9632 - val_loss: 0.1188\n",
      "Epoch 2/9\n",
      "\u001b[1m235/235\u001b[0m \u001b[32m━━━━━━━━━━━━━━━━━━━━\u001b[0m\u001b[37m\u001b[0m \u001b[1m24s\u001b[0m 101ms/step - accuracy: 0.9565 - loss: 0.1419 - val_accuracy: 0.9757 - val_loss: 0.0718\n",
      "Epoch 3/9\n",
      "\u001b[1m235/235\u001b[0m \u001b[32m━━━━━━━━━━━━━━━━━━━━\u001b[0m\u001b[37m\u001b[0m \u001b[1m23s\u001b[0m 99ms/step - accuracy: 0.9722 - loss: 0.0926 - val_accuracy: 0.9825 - val_loss: 0.0543\n",
      "Epoch 4/9\n",
      "\u001b[1m235/235\u001b[0m \u001b[32m━━━━━━━━━━━━━━━━━━━━\u001b[0m\u001b[37m\u001b[0m \u001b[1m23s\u001b[0m 98ms/step - accuracy: 0.9770 - loss: 0.0738 - val_accuracy: 0.9847 - val_loss: 0.0479\n",
      "Epoch 5/9\n",
      "\u001b[1m235/235\u001b[0m \u001b[32m━━━━━━━━━━━━━━━━━━━━\u001b[0m\u001b[37m\u001b[0m \u001b[1m23s\u001b[0m 99ms/step - accuracy: 0.9799 - loss: 0.0636 - val_accuracy: 0.9870 - val_loss: 0.0391\n",
      "Epoch 6/9\n",
      "\u001b[1m235/235\u001b[0m \u001b[32m━━━━━━━━━━━━━━━━━━━━\u001b[0m\u001b[37m\u001b[0m \u001b[1m41s\u001b[0m 100ms/step - accuracy: 0.9836 - loss: 0.0533 - val_accuracy: 0.9881 - val_loss: 0.0323\n",
      "Epoch 7/9\n",
      "\u001b[1m235/235\u001b[0m \u001b[32m━━━━━━━━━━━━━━━━━━━━\u001b[0m\u001b[37m\u001b[0m \u001b[1m23s\u001b[0m 99ms/step - accuracy: 0.9852 - loss: 0.0480 - val_accuracy: 0.9887 - val_loss: 0.0320\n",
      "Epoch 8/9\n",
      "\u001b[1m235/235\u001b[0m \u001b[32m━━━━━━━━━━━━━━━━━━━━\u001b[0m\u001b[37m\u001b[0m \u001b[1m24s\u001b[0m 100ms/step - accuracy: 0.9862 - loss: 0.0421 - val_accuracy: 0.9890 - val_loss: 0.0299\n",
      "Epoch 9/9\n",
      "\u001b[1m235/235\u001b[0m \u001b[32m━━━━━━━━━━━━━━━━━━━━\u001b[0m\u001b[37m\u001b[0m \u001b[1m23s\u001b[0m 98ms/step - accuracy: 0.9874 - loss: 0.0417 - val_accuracy: 0.9899 - val_loss: 0.0300\n"
     ]
    }
   ],
   "source": [
    "history = model.fit(X_train,y_train,epochs=9, batch_size=256, validation_data=(X_test,y_test)) "
   ]
  },
  {
   "cell_type": "code",
   "execution_count": 10,
   "id": "fe6ff8ba",
   "metadata": {
    "execution": {
     "iopub.execute_input": "2024-08-09T14:50:08.636212Z",
     "iopub.status.busy": "2024-08-09T14:50:08.635776Z",
     "iopub.status.idle": "2024-08-09T14:50:10.576499Z",
     "shell.execute_reply": "2024-08-09T14:50:10.575231Z"
    },
    "papermill": {
     "duration": 2.092902,
     "end_time": "2024-08-09T14:50:10.579260",
     "exception": false,
     "start_time": "2024-08-09T14:50:08.486358",
     "status": "completed"
    },
    "tags": []
   },
   "outputs": [
    {
     "name": "stdout",
     "output_type": "stream",
     "text": [
      "\u001b[1m313/313\u001b[0m \u001b[32m━━━━━━━━━━━━━━━━━━━━\u001b[0m\u001b[37m\u001b[0m \u001b[1m2s\u001b[0m 6ms/step - accuracy: 0.9877 - loss: 0.0359\n"
     ]
    },
    {
     "data": {
      "text/plain": [
       "[0.03001401014626026, 0.9898999929428101]"
      ]
     },
     "execution_count": 10,
     "metadata": {},
     "output_type": "execute_result"
    }
   ],
   "source": [
    "model.evaluate(X_test,y_test)"
   ]
  },
  {
   "cell_type": "code",
   "execution_count": 11,
   "id": "cb3a13a0",
   "metadata": {
    "execution": {
     "iopub.execute_input": "2024-08-09T14:50:10.884232Z",
     "iopub.status.busy": "2024-08-09T14:50:10.883812Z",
     "iopub.status.idle": "2024-08-09T14:50:10.888901Z",
     "shell.execute_reply": "2024-08-09T14:50:10.887571Z"
    },
    "papermill": {
     "duration": 0.15701,
     "end_time": "2024-08-09T14:50:10.891395",
     "exception": false,
     "start_time": "2024-08-09T14:50:10.734385",
     "status": "completed"
    },
    "tags": []
   },
   "outputs": [],
   "source": [
    "# 99% accuracy achieved with CNN"
   ]
  }
 ],
 "metadata": {
  "kaggle": {
   "accelerator": "none",
   "dataSources": [
    {
     "datasetId": 5309511,
     "sourceId": 8825119,
     "sourceType": "datasetVersion"
    }
   ],
   "dockerImageVersionId": 30732,
   "isGpuEnabled": false,
   "isInternetEnabled": false,
   "language": "python",
   "sourceType": "notebook"
  },
  "kernelspec": {
   "display_name": "Python 3",
   "language": "python",
   "name": "python3"
  },
  "language_info": {
   "codemirror_mode": {
    "name": "ipython",
    "version": 3
   },
   "file_extension": ".py",
   "mimetype": "text/x-python",
   "name": "python",
   "nbconvert_exporter": "python",
   "pygments_lexer": "ipython3",
   "version": "3.10.13"
  },
  "papermill": {
   "default_parameters": {},
   "duration": 253.822722,
   "end_time": "2024-08-09T14:50:12.572040",
   "environment_variables": {},
   "exception": null,
   "input_path": "__notebook__.ipynb",
   "output_path": "__notebook__.ipynb",
   "parameters": {},
   "start_time": "2024-08-09T14:45:58.749318",
   "version": "2.5.0"
  }
 },
 "nbformat": 4,
 "nbformat_minor": 5
}
